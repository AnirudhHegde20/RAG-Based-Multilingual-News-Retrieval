{
 "cells": [
  {
   "cell_type": "code",
   "execution_count": 12,
   "id": "249e2110-1e1e-4efa-b000-adac843367f0",
   "metadata": {
    "tags": []
   },
   "outputs": [
    {
     "name": "stdout",
     "output_type": "stream",
     "text": [
      "File datasets/translated_dataset_v3.tar.gz downloaded to translated_dataset.tar_v3.gz.\n",
      "Extracted translated_dataset.tar_v3.gz to ./extracted_translated_dataset_v3.\n"
     ]
    }
   ],
   "source": [
    "from google.cloud import storage\n",
    "import os\n",
    "import tarfile\n",
    "\n",
    "# Define GCS bucket and file details\n",
    "bucket_name = \"nlp_proj\"  # Replace with your bucket name\n",
    "source_blob_name = \"datasets/translated_dataset_v3.tar.gz\"  # Path in GCS\n",
    "destination_file_name = \"translated_dataset.tar_v3.gz\"  # Local file name\n",
    "\n",
    "# Function to download a file from GCS\n",
    "def download_from_gcs(bucket_name, source_blob_name, destination_file_name):\n",
    "    \"\"\"Downloads a file from GCS bucket.\"\"\"\n",
    "    storage_client = storage.Client()\n",
    "    bucket = storage_client.bucket(bucket_name)\n",
    "    blob = bucket.blob(source_blob_name)\n",
    "\n",
    "    blob.download_to_filename(destination_file_name)\n",
    "    print(f\"File {source_blob_name} downloaded to {destination_file_name}.\")\n",
    "\n",
    "# Download the file from GCS\n",
    "download_from_gcs(bucket_name, source_blob_name, destination_file_name)\n",
    "\n",
    "# Unzip the downloaded tar.gz file\n",
    "def extract_tar_gz(file_name, extract_path):\n",
    "    \"\"\"Extracts a tar.gz file to the specified path.\"\"\"\n",
    "    with tarfile.open(file_name, \"r:gz\") as tar:\n",
    "        tar.extractall(path=extract_path)\n",
    "    print(f\"Extracted {file_name} to {extract_path}.\")\n",
    "\n",
    "# Define extraction path\n",
    "extracted_path = \"./extracted_translated_dataset_v3\"\n",
    "\n",
    "# Ensure the directory exists\n",
    "os.makedirs(extracted_path, exist_ok=True)\n",
    "\n",
    "# Extract the dataset\n",
    "extract_tar_gz(destination_file_name, extracted_path)\n"
   ]
  },
  {
   "cell_type": "code",
   "execution_count": 13,
   "id": "41d343b5-c9cc-4def-bb96-8bdd5526311c",
   "metadata": {
    "tags": []
   },
   "outputs": [
    {
     "name": "stdout",
     "output_type": "stream",
     "text": [
      "Dataset({\n",
      "    features: ['summary', 'topic', 'title', 'date', 'translated_text'],\n",
      "    num_rows: 3000\n",
      "})\n"
     ]
    }
   ],
   "source": [
    "from datasets import load_from_disk\n",
    "\n",
    "# Load the dataset from the extracted path\n",
    "dataset = load_from_disk(extracted_path)\n",
    "print(dataset)"
   ]
  },
  {
   "cell_type": "code",
   "execution_count": 14,
   "id": "b8b3eeb9-d9dd-450e-86f7-cb5f150080e0",
   "metadata": {
    "tags": []
   },
   "outputs": [
    {
     "name": "stdout",
     "output_type": "stream",
     "text": [
      "                                             summary     topic  \\\n",
      "0  Transport in a cattle carriage, smell of meat ...  Politics   \n",
      "1  Marble zebra stripes, pompous buildings: Sinde...  Politics   \n",
      "2  Oskar Lafontaine resigns as party chairman of ...  Politics   \n",
      "3  The roots of poverty lie in the past. Haiti is...  Politics   \n",
      "4  Black-yellow is not yet the dream coalition th...  Politics   \n",
      "\n",
      "                                               title        date  \\\n",
      "0        Auschwitz: Memories of a Holocaust Survivor  00/01/2010   \n",
      "1  Municipalities in Need (3): Sindelfingen - Bey...  00/01/2010   \n",
      "2  Staff debate on the left - who is coming to La...  00/01/2010   \n",
      "3             History of Haiti - Napoleon's disgrace  00/01/2010   \n",
      "4  Black-and-yellow cabinet - Merkel's team in th...  00/01/2010   \n",
      "\n",
      "                                     translated_text  \n",
      "0  Transport in a cattle carriage, smell of meat ...  \n",
      "1  Marble zebra stripes, pompous buildings: Sinde...  \n",
      "2  This Monday, when the country’s left-wing lead...  \n",
      "3  The portrait of 1791 shows Haiti’s national he...  \n",
      "4  New heads and old acquaintances: Angela Merkel...  \n"
     ]
    }
   ],
   "source": [
    "df = dataset.to_pandas()\n",
    "print(df.head())"
   ]
  },
  {
   "cell_type": "code",
   "execution_count": null,
   "id": "85678bd4-8e43-4e65-a0ca-2a8e4dc0d302",
   "metadata": {},
   "outputs": [],
   "source": []
  }
 ],
 "metadata": {
  "environment": {
   "kernel": "python3",
   "name": "tf2-cpu.2-11.m125",
   "type": "gcloud",
   "uri": "us-docker.pkg.dev/deeplearning-platform-release/gcr.io/tf2-cpu.2-11:m125"
  },
  "kernelspec": {
   "display_name": "Python 3",
   "language": "python",
   "name": "python3"
  },
  "language_info": {
   "codemirror_mode": {
    "name": "ipython",
    "version": 3
   },
   "file_extension": ".py",
   "mimetype": "text/x-python",
   "name": "python",
   "nbconvert_exporter": "python",
   "pygments_lexer": "ipython3",
   "version": "3.10.15"
  }
 },
 "nbformat": 4,
 "nbformat_minor": 5
}
