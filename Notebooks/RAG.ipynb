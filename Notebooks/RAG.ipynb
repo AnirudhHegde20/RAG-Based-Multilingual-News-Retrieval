{
 "cells": [
  {
   "cell_type": "code",
   "execution_count": 1,
   "id": "249e2110-1e1e-4efa-b000-adac843367f0",
   "metadata": {
    "tags": []
   },
   "outputs": [
    {
     "name": "stdout",
     "output_type": "stream",
     "text": [
      "DataFrame loaded successfully!\n",
      "                                                text  \\\n",
      "0  Transport im Viehwaggon, Fleischgeruch in der ...   \n",
      "1  Marmorner Zebrastreifen, pompöse Gebäude: Sind...   \n",
      "2  Wenn an diesem Montag die Landesvorsitzenden d...   \n",
      "3  Das Portrait von 1791 zeigt Haitis Nationalhel...   \n",
      "4  Neue Köpfe und alte Bekannte: Die neue Regieru...   \n",
      "\n",
      "                                             summary    topic  \\\n",
      "0  Transport im Viehwaggon, Fleischgeruch in der ...  politik   \n",
      "1  Marmorner Zebrastreifen, pompöse Gebäude: Sind...  politik   \n",
      "2  Oskar Lafontaine gibt den Parteivorsitz der Li...  politik   \n",
      "3  Die Wurzeln des Elends liegen in der Vergangen...  politik   \n",
      "4  Schwarz-Gelb ist noch nicht jene Traumkoalitio...  politik   \n",
      "\n",
      "                                               title        date language  \\\n",
      "0  So war Auschwitz: Erinnerungen einer Holocaust...  00/01/2010       de   \n",
      "1  Kommunen in Not (3): Sindelfingen - Jenseits g...  00/01/2010       de   \n",
      "2  Personaldebatte bei der Linken - Wer kommt nac...  00/01/2010       de   \n",
      "3           Geschichte von Haiti - Napoleons Schmach  00/01/2010       de   \n",
      "4  Schwarz-gelbes Kabinett - Merkels Mannschaft i...  00/01/2010       de   \n",
      "\n",
      "                                     translated_text  \n",
      "0  Transport in a cattle carriage, smell of meat ...  \n",
      "1  Marble zebra stripes, pompous buildings: Sinde...  \n",
      "2  This Monday, when the country’s left-wing lead...  \n",
      "3  The portrait of 1791 shows Haiti’s national he...  \n",
      "4  New heads and old acquaintances: Angela Merkel...  \n"
     ]
    }
   ],
   "source": [
    "import pandas as pd\n",
    "\n",
    "# Define the CSV file path\n",
    "csv_file_path = \"/Users/anirudhhegde/Desktop/Northeastern University/Natural Language Processing/Project/RAG-Based-Multilingual-News-Retrieval/data.csv\"\n",
    "\n",
    "# Load the CSV as a DataFrame\n",
    "try:\n",
    "    df = pd.read_csv(csv_file_path)\n",
    "    print(\"DataFrame loaded successfully!\")\n",
    "    print(df.head())  # Display the first few rows of the DataFrame\n",
    "except Exception as e:\n",
    "    print(f\"Error loading the CSV file: {e}\")"
   ]
  },
  {
   "cell_type": "code",
   "execution_count": 2,
   "id": "41d343b5-c9cc-4def-bb96-8bdd5526311c",
   "metadata": {
    "tags": []
   },
   "outputs": [
    {
     "data": {
      "text/html": [
       "<div>\n",
       "<style scoped>\n",
       "    .dataframe tbody tr th:only-of-type {\n",
       "        vertical-align: middle;\n",
       "    }\n",
       "\n",
       "    .dataframe tbody tr th {\n",
       "        vertical-align: top;\n",
       "    }\n",
       "\n",
       "    .dataframe thead th {\n",
       "        text-align: right;\n",
       "    }\n",
       "</style>\n",
       "<table border=\"1\" class=\"dataframe\">\n",
       "  <thead>\n",
       "    <tr style=\"text-align: right;\">\n",
       "      <th></th>\n",
       "      <th>text</th>\n",
       "      <th>summary</th>\n",
       "      <th>topic</th>\n",
       "      <th>title</th>\n",
       "      <th>date</th>\n",
       "      <th>language</th>\n",
       "      <th>translated_text</th>\n",
       "    </tr>\n",
       "  </thead>\n",
       "  <tbody>\n",
       "    <tr>\n",
       "      <th>0</th>\n",
       "      <td>Transport im Viehwaggon, Fleischgeruch in der ...</td>\n",
       "      <td>Transport im Viehwaggon, Fleischgeruch in der ...</td>\n",
       "      <td>politik</td>\n",
       "      <td>So war Auschwitz: Erinnerungen einer Holocaust...</td>\n",
       "      <td>00/01/2010</td>\n",
       "      <td>de</td>\n",
       "      <td>Transport in a cattle carriage, smell of meat ...</td>\n",
       "    </tr>\n",
       "    <tr>\n",
       "      <th>1</th>\n",
       "      <td>Marmorner Zebrastreifen, pompöse Gebäude: Sind...</td>\n",
       "      <td>Marmorner Zebrastreifen, pompöse Gebäude: Sind...</td>\n",
       "      <td>politik</td>\n",
       "      <td>Kommunen in Not (3): Sindelfingen - Jenseits g...</td>\n",
       "      <td>00/01/2010</td>\n",
       "      <td>de</td>\n",
       "      <td>Marble zebra stripes, pompous buildings: Sinde...</td>\n",
       "    </tr>\n",
       "    <tr>\n",
       "      <th>2</th>\n",
       "      <td>Wenn an diesem Montag die Landesvorsitzenden d...</td>\n",
       "      <td>Oskar Lafontaine gibt den Parteivorsitz der Li...</td>\n",
       "      <td>politik</td>\n",
       "      <td>Personaldebatte bei der Linken - Wer kommt nac...</td>\n",
       "      <td>00/01/2010</td>\n",
       "      <td>de</td>\n",
       "      <td>This Monday, when the country’s left-wing lead...</td>\n",
       "    </tr>\n",
       "    <tr>\n",
       "      <th>3</th>\n",
       "      <td>Das Portrait von 1791 zeigt Haitis Nationalhel...</td>\n",
       "      <td>Die Wurzeln des Elends liegen in der Vergangen...</td>\n",
       "      <td>politik</td>\n",
       "      <td>Geschichte von Haiti - Napoleons Schmach</td>\n",
       "      <td>00/01/2010</td>\n",
       "      <td>de</td>\n",
       "      <td>The portrait of 1791 shows Haiti’s national he...</td>\n",
       "    </tr>\n",
       "    <tr>\n",
       "      <th>4</th>\n",
       "      <td>Neue Köpfe und alte Bekannte: Die neue Regieru...</td>\n",
       "      <td>Schwarz-Gelb ist noch nicht jene Traumkoalitio...</td>\n",
       "      <td>politik</td>\n",
       "      <td>Schwarz-gelbes Kabinett - Merkels Mannschaft i...</td>\n",
       "      <td>00/01/2010</td>\n",
       "      <td>de</td>\n",
       "      <td>New heads and old acquaintances: Angela Merkel...</td>\n",
       "    </tr>\n",
       "  </tbody>\n",
       "</table>\n",
       "</div>"
      ],
      "text/plain": [
       "                                                text  \\\n",
       "0  Transport im Viehwaggon, Fleischgeruch in der ...   \n",
       "1  Marmorner Zebrastreifen, pompöse Gebäude: Sind...   \n",
       "2  Wenn an diesem Montag die Landesvorsitzenden d...   \n",
       "3  Das Portrait von 1791 zeigt Haitis Nationalhel...   \n",
       "4  Neue Köpfe und alte Bekannte: Die neue Regieru...   \n",
       "\n",
       "                                             summary    topic  \\\n",
       "0  Transport im Viehwaggon, Fleischgeruch in der ...  politik   \n",
       "1  Marmorner Zebrastreifen, pompöse Gebäude: Sind...  politik   \n",
       "2  Oskar Lafontaine gibt den Parteivorsitz der Li...  politik   \n",
       "3  Die Wurzeln des Elends liegen in der Vergangen...  politik   \n",
       "4  Schwarz-Gelb ist noch nicht jene Traumkoalitio...  politik   \n",
       "\n",
       "                                               title        date language  \\\n",
       "0  So war Auschwitz: Erinnerungen einer Holocaust...  00/01/2010       de   \n",
       "1  Kommunen in Not (3): Sindelfingen - Jenseits g...  00/01/2010       de   \n",
       "2  Personaldebatte bei der Linken - Wer kommt nac...  00/01/2010       de   \n",
       "3           Geschichte von Haiti - Napoleons Schmach  00/01/2010       de   \n",
       "4  Schwarz-gelbes Kabinett - Merkels Mannschaft i...  00/01/2010       de   \n",
       "\n",
       "                                     translated_text  \n",
       "0  Transport in a cattle carriage, smell of meat ...  \n",
       "1  Marble zebra stripes, pompous buildings: Sinde...  \n",
       "2  This Monday, when the country’s left-wing lead...  \n",
       "3  The portrait of 1791 shows Haiti’s national he...  \n",
       "4  New heads and old acquaintances: Angela Merkel...  "
      ]
     },
     "execution_count": 2,
     "metadata": {},
     "output_type": "execute_result"
    }
   ],
   "source": [
    "df.head()"
   ]
  },
  {
   "cell_type": "markdown",
   "id": "ef92d505",
   "metadata": {},
   "source": [
    "## RAG_1"
   ]
  },
  {
   "cell_type": "code",
   "execution_count": null,
   "id": "85678bd4-8e43-4e65-a0ca-2a8e4dc0d302",
   "metadata": {},
   "outputs": [
    {
     "name": "stderr",
     "output_type": "stream",
     "text": [
      "/Users/anirudhhegde/Desktop/Northeastern University/Natural Language Processing/Project/RAG-Based-Multilingual-News-Retrieval/venv/lib/python3.12/site-packages/tqdm/auto.py:21: TqdmWarning: IProgress not found. Please update jupyter and ipywidgets. See https://ipywidgets.readthedocs.io/en/stable/user_install.html\n",
      "  from .autonotebook import tqdm as notebook_tqdm\n"
     ]
    },
    {
     "name": "stdout",
     "output_type": "stream",
     "text": [
      "Generating embeddings for the articles...\n",
      "FAISS index contains 6000 items.\n"
     ]
    }
   ],
   "source": [
    "from sentence_transformers import SentenceTransformer\n",
    "import numpy as np\n",
    "import faiss\n",
    "\n",
    "# Load the SentenceTransformer model for multilingual embeddings\n",
    "embedding_model = SentenceTransformer('paraphrase-multilingual-MiniLM-L12-v2')\n",
    "\n",
    "# Generate embeddings for the 'translated_text'\n",
    "print(\"Generating embeddings for the articles...\")\n",
    "df['embedding'] = df['translated_text'].apply(lambda x: embedding_model.encode(x))\n",
    "\n",
    "# Convert embeddings into a numpy array\n",
    "embeddings = np.vstack(df['embedding'].values)\n",
    "\n",
    "# Initialize FAISS index for vector storage and search\n",
    "dimension = embeddings.shape[1]  # Embedding dimension\n",
    "faiss_index = faiss.IndexFlatL2(dimension)  # L2 distance metric\n",
    "faiss_index.add(embeddings)  # Add embeddings to the FAISS index\n",
    "print(f\"FAISS index contains {faiss_index.ntotal} items.\")"
   ]
  },
  {
   "cell_type": "code",
   "execution_count": 4,
   "id": "e8f25fcb",
   "metadata": {},
   "outputs": [],
   "source": [
    "def encode_query(query):\n",
    "    \"\"\"Generate embedding for a user query.\"\"\"\n",
    "    return embedding_model.encode(query)\n",
    "\n",
    "# Example user query\n",
    "query = \"What were the effects of Napoleonic wars in Haiti?\"\n",
    "query_embedding = encode_query(query)"
   ]
  },
  {
   "cell_type": "code",
   "execution_count": null,
   "id": "08f5eede",
   "metadata": {},
   "outputs": [
    {
     "name": "stdout",
     "output_type": "stream",
     "text": [
      "Retrieved Articles:\n",
      "                                                  title  \\\n",
      "1847              La cruel historia de un país olvidado   \n",
      "3566  Haïti dévasté après un violent tremblement de ...   \n",
      "3              Geschichte von Haiti - Napoleons Schmach   \n",
      "5298                      Aynı adada cennet ve cehennem   \n",
      "3590  Cyclones, émeutes de la faim… un pays qui vit ...   \n",
      "\n",
      "                                        translated_text  \\\n",
      "1847  The earthquake that has destroyed Haiti only c...   \n",
      "3566  The earthquake that devastated Haiti at the en...   \n",
      "3     The portrait of 1791 shows Haiti’s national he...   \n",
      "5298  Haiti, one of the world's poorest nations, has...   \n",
      "3590  The earthquake that struck Haiti on Tuesday, J...   \n",
      "\n",
      "                                                summary  \n",
      "1847  Constantes crisis políticas y sociales azotan ...  \n",
      "3566  La mobilisation s'organise pour secourir le pa...  \n",
      "3     Die Wurzeln des Elends liegen in der Vergangen...  \n",
      "5298  Aynı adayı paylaşıyorlar ama hayatlar çok fark...  \n",
      "3590  Haïti dépend de l'aide mondiale et du soutien ...  \n"
     ]
    }
   ],
   "source": [
    "def search_faiss(query_embedding, top_k=5):\n",
    "    \"\"\"Retrieve top-k most similar articles from FAISS index.\"\"\"\n",
    "    query_embedding = np.array([query_embedding])  # Convert query to 2D array\n",
    "    distances, indices = faiss_index.search(query_embedding, top_k)\n",
    "    return indices[0], distances[0]\n",
    "\n",
    "# Search for the most relevant articles\n",
    "top_k = 5\n",
    "indices, distances = search_faiss(query_embedding, top_k=top_k)\n",
    "\n",
    "# Retrieve articles based on indices\n",
    "retrieved_articles = df.iloc[indices]\n",
    "print(\"Retrieved Articles:\")\n",
    "print(retrieved_articles[['title', 'translated_text', 'summary']])"
   ]
  },
  {
   "cell_type": "code",
   "execution_count": null,
   "id": "cbd496e7",
   "metadata": {},
   "outputs": [
    {
     "name": "stderr",
     "output_type": "stream",
     "text": [
      "You are using the default legacy behaviour of the <class 'transformers.models.t5.tokenization_t5.T5Tokenizer'>. This is expected, and simply means that the `legacy` (previous) behavior will be used so nothing changes for you. If you want to use the new behaviour, set `legacy=False`. This should only be set if you understand what it means, and thoroughly read the reason why this was added as explained in https://github.com/huggingface/transformers/pull/24565\n"
     ]
    },
    {
     "name": "stdout",
     "output_type": "stream",
     "text": [
      "\n",
      "Generated Answer:\n",
      "Haiti bezahlt immer noch für seine Befreiung vor 200 Jahren. Auch damals nahmen die Wichtigen der Welt den Insel-Staat nicht ernst.' 'Ayn aday paylaşyorlar ama hayatlar çok farkl.\n"
     ]
    }
   ],
   "source": [
    "from transformers import T5ForConditionalGeneration, T5Tokenizer\n",
    "import torch\n",
    "\n",
    "# Automatically select MPS if available, otherwise fallback to CPU\n",
    "device = \"mps\" if torch.backends.mps.is_available() else \"cpu\"\n",
    "\n",
    "from transformers import T5Tokenizer, T5ForConditionalGeneration\n",
    "\n",
    "generative_model_name = \"t5-base\"\n",
    "generative_tokenizer = T5Tokenizer.from_pretrained(generative_model_name)\n",
    "generative_model = T5ForConditionalGeneration.from_pretrained(generative_model_name).to(device)\n",
    "\n",
    "def generate_answer(query, retrieved_texts):\n",
    "    input_text = f\"question: {query} context: {retrieved_texts}\"\n",
    "    inputs = generative_tokenizer(input_text, return_tensors=\"pt\", truncation=True, max_length=512).to(device)\n",
    "    outputs = generative_model.generate(\n",
    "        inputs.input_ids, max_length=150, min_length=50, length_penalty=2.0, num_beams=4, early_stopping=True\n",
    "    )\n",
    "    return generative_tokenizer.decode(outputs[0], skip_special_tokens=True)\n",
    "\n",
    "# Prepare retrieved texts for the generative model\n",
    "retrieved_texts = retrieved_articles['summary'].tolist()\n",
    "\n",
    "# Generate an answer\n",
    "final_answer = generate_answer(query, retrieved_texts)\n",
    "print(\"\\nGenerated Answer:\")\n",
    "print(final_answer)"
   ]
  },
  {
   "cell_type": "markdown",
   "id": "f6d87ccd",
   "metadata": {},
   "source": [
    "## RAG_2\n"
   ]
  },
  {
   "cell_type": "code",
   "execution_count": 14,
   "id": "e2dcaab0",
   "metadata": {},
   "outputs": [],
   "source": [
    "df_2 = pd.read_csv(\"/Users/anirudhhegde/Desktop/Northeastern University/Natural Language Processing/Project/RAG-Based-Multilingual-News-Retrieval/datasets_translated_dataset_v3/dataset.csv\")"
   ]
  },
  {
   "cell_type": "code",
   "execution_count": 12,
   "id": "66ff02f4",
   "metadata": {},
   "outputs": [
    {
     "data": {
      "text/html": [
       "<div>\n",
       "<style scoped>\n",
       "    .dataframe tbody tr th:only-of-type {\n",
       "        vertical-align: middle;\n",
       "    }\n",
       "\n",
       "    .dataframe tbody tr th {\n",
       "        vertical-align: top;\n",
       "    }\n",
       "\n",
       "    .dataframe thead th {\n",
       "        text-align: right;\n",
       "    }\n",
       "</style>\n",
       "<table border=\"1\" class=\"dataframe\">\n",
       "  <thead>\n",
       "    <tr style=\"text-align: right;\">\n",
       "      <th></th>\n",
       "      <th>summary</th>\n",
       "      <th>topic</th>\n",
       "      <th>title</th>\n",
       "      <th>date</th>\n",
       "      <th>translated_text</th>\n",
       "    </tr>\n",
       "  </thead>\n",
       "  <tbody>\n",
       "    <tr>\n",
       "      <th>0</th>\n",
       "      <td>Transport in a cattle carriage, smell of meat ...</td>\n",
       "      <td>Politics</td>\n",
       "      <td>Auschwitz: Memories of a Holocaust Survivor</td>\n",
       "      <td>00/01/2010</td>\n",
       "      <td>Transport in a cattle carriage, smell of meat ...</td>\n",
       "    </tr>\n",
       "    <tr>\n",
       "      <th>1</th>\n",
       "      <td>Marble zebra stripes, pompous buildings: Sinde...</td>\n",
       "      <td>Politics</td>\n",
       "      <td>Municipalities in Need (3): Sindelfingen - Bey...</td>\n",
       "      <td>00/01/2010</td>\n",
       "      <td>Marble zebra stripes, pompous buildings: Sinde...</td>\n",
       "    </tr>\n",
       "    <tr>\n",
       "      <th>2</th>\n",
       "      <td>Oskar Lafontaine resigns as party chairman of ...</td>\n",
       "      <td>Politics</td>\n",
       "      <td>Staff debate on the left - who is coming to La...</td>\n",
       "      <td>00/01/2010</td>\n",
       "      <td>This Monday, when the country’s left-wing lead...</td>\n",
       "    </tr>\n",
       "    <tr>\n",
       "      <th>3</th>\n",
       "      <td>The roots of poverty lie in the past. Haiti is...</td>\n",
       "      <td>Politics</td>\n",
       "      <td>History of Haiti - Napoleon's disgrace</td>\n",
       "      <td>00/01/2010</td>\n",
       "      <td>The portrait of 1791 shows Haiti’s national he...</td>\n",
       "    </tr>\n",
       "    <tr>\n",
       "      <th>4</th>\n",
       "      <td>Black-yellow is not yet the dream coalition th...</td>\n",
       "      <td>Politics</td>\n",
       "      <td>Black-and-yellow cabinet - Merkel's team in th...</td>\n",
       "      <td>00/01/2010</td>\n",
       "      <td>New heads and old acquaintances: Angela Merkel...</td>\n",
       "    </tr>\n",
       "  </tbody>\n",
       "</table>\n",
       "</div>"
      ],
      "text/plain": [
       "                                             summary     topic  \\\n",
       "0  Transport in a cattle carriage, smell of meat ...  Politics   \n",
       "1  Marble zebra stripes, pompous buildings: Sinde...  Politics   \n",
       "2  Oskar Lafontaine resigns as party chairman of ...  Politics   \n",
       "3  The roots of poverty lie in the past. Haiti is...  Politics   \n",
       "4  Black-yellow is not yet the dream coalition th...  Politics   \n",
       "\n",
       "                                               title        date  \\\n",
       "0        Auschwitz: Memories of a Holocaust Survivor  00/01/2010   \n",
       "1  Municipalities in Need (3): Sindelfingen - Bey...  00/01/2010   \n",
       "2  Staff debate on the left - who is coming to La...  00/01/2010   \n",
       "3             History of Haiti - Napoleon's disgrace  00/01/2010   \n",
       "4  Black-and-yellow cabinet - Merkel's team in th...  00/01/2010   \n",
       "\n",
       "                                     translated_text  \n",
       "0  Transport in a cattle carriage, smell of meat ...  \n",
       "1  Marble zebra stripes, pompous buildings: Sinde...  \n",
       "2  This Monday, when the country’s left-wing lead...  \n",
       "3  The portrait of 1791 shows Haiti’s national he...  \n",
       "4  New heads and old acquaintances: Angela Merkel...  "
      ]
     },
     "execution_count": 12,
     "metadata": {},
     "output_type": "execute_result"
    }
   ],
   "source": [
    "df_2.head()"
   ]
  },
  {
   "cell_type": "code",
   "execution_count": 31,
   "id": "89f87d3f",
   "metadata": {},
   "outputs": [
    {
     "name": "stdout",
     "output_type": "stream",
     "text": [
      "<class 'pandas.core.frame.DataFrame'>\n",
      "RangeIndex: 3000 entries, 0 to 2999\n",
      "Data columns (total 6 columns):\n",
      " #   Column           Non-Null Count  Dtype \n",
      "---  ------           --------------  ----- \n",
      " 0   summary          3000 non-null   object\n",
      " 1   topic            3000 non-null   object\n",
      " 2   title            3000 non-null   object\n",
      " 3   date             3000 non-null   object\n",
      " 4   translated_text  3000 non-null   object\n",
      " 5   embedding        3000 non-null   object\n",
      "dtypes: object(6)\n",
      "memory usage: 140.8+ KB\n"
     ]
    }
   ],
   "source": [
    "df_2.info()"
   ]
  },
  {
   "cell_type": "code",
   "execution_count": 42,
   "id": "9f21cb7f",
   "metadata": {},
   "outputs": [
    {
     "name": "stdout",
     "output_type": "stream",
     "text": [
      "Generating embeddings for the articles...\n",
      "FAISS index contains 3000 items.\n"
     ]
    }
   ],
   "source": [
    "from sentence_transformers import SentenceTransformer\n",
    "import numpy as np\n",
    "import faiss\n",
    "\n",
    "# Load the SentenceTransformer model for multilingual embeddings\n",
    "embedding_model = SentenceTransformer('multi-qa-mpnet-base-dot-v1')\n",
    "\n",
    "# Generate embeddings for the 'translated_text'\n",
    "print(\"Generating embeddings for the articles...\")\n",
    "df_2['embedding'] = df_2['translated_text'].apply(lambda x: embedding_model.encode(x, normalize_embeddings = True))\n",
    "\n",
    "# Convert embeddings into a numpy array\n",
    "embeddings = np.vstack(df_2['embedding'].values)\n",
    "\n",
    "# Initialize FAISS index for vector storage and search\n",
    "dimension = embeddings.shape[1]  # Embedding dimension\n",
    "faiss_index = faiss.IndexFlatL2(dimension)  # L2 distance metric\n",
    "faiss_index.add(embeddings)  # Add embeddings to the FAISS index\n",
    "print(f\"FAISS index contains {faiss_index.ntotal} items.\")"
   ]
  },
  {
   "cell_type": "code",
   "execution_count": 43,
   "id": "8e2328c1",
   "metadata": {},
   "outputs": [],
   "source": [
    "def encode_query(query):\n",
    "    \"\"\"Generate embedding for a user query.\"\"\"\n",
    "    return embedding_model.encode(query, normalize_embeddings =True)\n",
    "\n",
    "# Example user query\n",
    "# query = \"America donald trump election\"\n",
    "query = 'terrorist islam pakistan afghanistan bangladesh'\n",
    "query_embedding = encode_query(query)"
   ]
  },
  {
   "cell_type": "code",
   "execution_count": 44,
   "id": "c247a9c9",
   "metadata": {},
   "outputs": [
    {
     "name": "stdout",
     "output_type": "stream",
     "text": [
      "Retrieved Articles:\n",
      "                                                  title  \\\n",
      "1293  In this regard, I would like to draw the atten...   \n",
      "529   Pakistan: Many dead in Lahore - Two attacks in...   \n",
      "2474  Pakistan: suicide bombing in the western part ...   \n",
      "2788  Nine alleged Al Qaeda members soon to be tried...   \n",
      "1660  The Committee recommends that the State party ...   \n",
      "\n",
      "                                                  topic  \\\n",
      "1293                                     diario portada   \n",
      "529                                            Politics   \n",
      "2474                                       Asia-Pacific   \n",
      "2788  europe europe, europe, europe, europe, europe,...   \n",
      "1660                           International Journalism   \n",
      "\n",
      "                                        translated_text  \\\n",
      "1293  Al Qaeda in the Islamic Maghreb, the branch of...   \n",
      "529   Bomb terror in the \"Heart of Pakistan\": Two su...   \n",
      "2474  Is the sanctuary of the Pakistani Taliban and ...   \n",
      "2788  Nine suspected members of the Al-Qaida network...   \n",
      "1660  The Jordanian suicide bomber who killed seven ...   \n",
      "\n",
      "                                                summary  \n",
      "1293  In addition, the Committee recommends that the...  \n",
      "529   Bomb terror in the \"Heart of Pakistan\": Two su...  \n",
      "2474  The Taliban, pressed by the Pakistani army, ar...  \n",
      "2788  Nine alleged members of the Al Qaeda network, ...  \n",
      "1660  The Jordanian double agent who assassinated US...  \n"
     ]
    }
   ],
   "source": [
    "def search_faiss(query_embedding, top_k=5):\n",
    "    \"\"\"Retrieve top-k most similar articles from FAISS index.\"\"\"\n",
    "    query_embedding = np.array([query_embedding])  # Convert query to 2D array\n",
    "    distances, indices = faiss_index.search(query_embedding, top_k)\n",
    "    return indices[0], distances[0]\n",
    "\n",
    "# Search for the most relevant articles\n",
    "top_k = 5\n",
    "indices, distances = search_faiss(query_embedding, top_k=top_k)\n",
    "\n",
    "# Retrieve articles based on indices\n",
    "retrieved_articles = df_2.iloc[indices]\n",
    "print(\"Retrieved Articles:\")\n",
    "print(retrieved_articles[['title','topic', 'translated_text', 'summary']])"
   ]
  },
  {
   "cell_type": "code",
   "execution_count": 41,
   "id": "bc3bc3e8",
   "metadata": {},
   "outputs": [
    {
     "name": "stdout",
     "output_type": "stream",
     "text": [
      "Retrieved Articles with Similarity Scores:\n",
      "                                                  title  \\\n",
      "2474  Pakistan: suicide bombing in the western part ...   \n",
      "2515  Yemen: Imam allegedly linked to Fort Hood and ...   \n",
      "2538    \"\"\"Terrorism is not the main problem in Yemen\"\"   \n",
      "2775         \"Tehran bans \"\"any contact\"\" with 60 NGOs\"   \n",
      "529   Pakistan: Many dead in Lahore - Two attacks in...   \n",
      "\n",
      "                                                  topic  \\\n",
      "2474                                       Asia-Pacific   \n",
      "2515  . . . . . . . . . . . . . . . . . . . . . . . ...   \n",
      "2538                                        Middle East   \n",
      "2775                                        Middle East   \n",
      "529                                            Politics   \n",
      "\n",
      "                                        translated_text  \\\n",
      "2474  Is the sanctuary of the Pakistani Taliban and ...   \n",
      "2515  President Barack Obama's anti-terrorism advise...   \n",
      "2538  Omar Faouk Abdulmutallab, the perpetrator of t...   \n",
      "2775  On Monday, 4 January, the Ministry of Informat...   \n",
      "529   Bomb terror in the \"Heart of Pakistan\": Two su...   \n",
      "\n",
      "                                                summary  similarity  \n",
      "2474  The Taliban, pressed by the Pakistani army, ar...    0.568423  \n",
      "2515  Imam Anwar al-Aulaqi is said to have been link...    0.522997  \n",
      "2538  Researcher Laurent Bonnefoy refers to the weig...    0.518279  \n",
      "2775  Tehran insists that \"foreigners\" are behind th...    0.490891  \n",
      "529   Bomb terror in the \"Heart of Pakistan\": Two su...    0.487524  \n"
     ]
    }
   ],
   "source": [
    "from sklearn.metrics.pairwise import cosine_similarity\n",
    "\n",
    "# Calculate cosine similarity between query and retrieved articles\n",
    "retrieved_embeddings = embeddings[indices]\n",
    "cosine_similarities = cosine_similarity([query_embedding], retrieved_embeddings).flatten()\n",
    "\n",
    "# Add similarity scores to the retrieved articles for analysis\n",
    "retrieved_articles = retrieved_articles.copy()\n",
    "retrieved_articles['similarity'] = cosine_similarities\n",
    "\n",
    "# Sort articles by similarity score\n",
    "retrieved_articles = retrieved_articles.sort_values(by='similarity', ascending=False)\n",
    "print(\"Retrieved Articles with Similarity Scores:\")\n",
    "print(retrieved_articles[['title', 'topic', 'translated_text', 'summary','similarity']])"
   ]
  },
  {
   "cell_type": "code",
   "execution_count": 45,
   "id": "505f8978",
   "metadata": {},
   "outputs": [
    {
     "name": "stdout",
     "output_type": "stream",
     "text": [
      "                                                  title  \\\n",
      "1293  In this regard, I would like to draw the atten...   \n",
      "529   Pakistan: Many dead in Lahore - Two attacks in...   \n",
      "2474  Pakistan: suicide bombing in the western part ...   \n",
      "2788  Nine alleged Al Qaeda members soon to be tried...   \n",
      "1660  The Committee recommends that the State party ...   \n",
      "\n",
      "                                        translated_text  \\\n",
      "1293  Al Qaeda in the Islamic Maghreb, the branch of...   \n",
      "529   Bomb terror in the \"Heart of Pakistan\": Two su...   \n",
      "2474  Is the sanctuary of the Pakistani Taliban and ...   \n",
      "2788  Nine suspected members of the Al-Qaida network...   \n",
      "1660  The Jordanian suicide bomber who killed seven ...   \n",
      "\n",
      "                                                summary  \\\n",
      "1293  In addition, the Committee recommends that the...   \n",
      "529   Bomb terror in the \"Heart of Pakistan\": Two su...   \n",
      "2474  The Taliban, pressed by the Pakistani army, ar...   \n",
      "2788  Nine alleged members of the Al Qaeda network, ...   \n",
      "1660  The Jordanian double agent who assassinated US...   \n",
      "\n",
      "      query_summary_similarity  news_summary_similarity  \n",
      "1293                  0.264717                 0.429626  \n",
      "529                   0.418442                 0.768442  \n",
      "2474                  0.383980                 0.514478  \n",
      "2788                  0.347470                 0.955499  \n",
      "1660                  0.444940                 0.666531  \n"
     ]
    }
   ],
   "source": [
    "from bert_score import score\n",
    "import pandas as pd\n",
    "\n",
    "# Assuming df_2 contains the retrieved articles\n",
    "# Rename df_2 to df_retrieved for consistency with the code\n",
    "df_retrieved = retrieved_articles.copy()\n",
    "\n",
    "# Ensure columns exist in the DataFrame\n",
    "if \"summary\" not in df_retrieved.columns or \"translated_text\" not in df_retrieved.columns:\n",
    "    raise ValueError(\"DataFrame must contain 'summary' and 'translated_text' columns for similarity comparison.\")\n",
    "\n",
    "# Task 1: Similarity Between Query and Summaries\n",
    "query_list = [query] * len(df_retrieved)  # Repeat the query for all summaries\n",
    "P, R, F1_query_summary = score(\n",
    "    df_retrieved[\"summary\"].tolist(),\n",
    "    query_list,\n",
    "    lang=\"en\",\n",
    "    model_type=\"bert-base-uncased\"\n",
    ")\n",
    "df_retrieved[\"query_summary_similarity\"] = F1_query_summary.tolist()\n",
    "\n",
    "# Task 2: Similarity Between News Articles (translated_text) and Summaries\n",
    "P, R, F1_news_summary = score(\n",
    "    df_retrieved[\"summary\"].tolist(),\n",
    "    df_retrieved[\"translated_text\"].tolist(),\n",
    "    lang=\"en\",\n",
    "    model_type=\"bert-base-uncased\"\n",
    ")\n",
    "df_retrieved[\"news_summary_similarity\"] = F1_news_summary.tolist()\n",
    "\n",
    "# Display the DataFrame with similarity scores\n",
    "df_bertscore = df_retrieved[[\"title\", \"translated_text\", \"summary\", \"query_summary_similarity\", \"news_summary_similarity\"]]\n",
    "print(df_bertscore)"
   ]
  },
  {
   "cell_type": "code",
   "execution_count": null,
   "id": "04712798",
   "metadata": {},
   "outputs": [],
   "source": []
  }
 ],
 "metadata": {
  "environment": {
   "kernel": "python3",
   "name": "tf2-cpu.2-11.m125",
   "type": "gcloud",
   "uri": "us-docker.pkg.dev/deeplearning-platform-release/gcr.io/tf2-cpu.2-11:m125"
  },
  "kernelspec": {
   "display_name": "Python 3",
   "language": "python",
   "name": "python3"
  },
  "language_info": {
   "codemirror_mode": {
    "name": "ipython",
    "version": 3
   },
   "file_extension": ".py",
   "mimetype": "text/x-python",
   "name": "python",
   "nbconvert_exporter": "python",
   "pygments_lexer": "ipython3",
   "version": "3.10.15"
  }
 },
 "nbformat": 4,
 "nbformat_minor": 5
}
